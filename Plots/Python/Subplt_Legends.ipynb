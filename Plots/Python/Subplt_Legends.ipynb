{
 "metadata": {
  "language_info": {
   "codemirror_mode": {
    "name": "ipython",
    "version": 3
   },
   "file_extension": ".py",
   "mimetype": "text/x-python",
   "name": "python",
   "nbconvert_exporter": "python",
   "pygments_lexer": "ipython3",
   "version": "3.8.1-final"
  },
  "orig_nbformat": 2,
  "kernelspec": {
   "name": "python3",
   "display_name": "Python 3.8.1 64-bit",
   "metadata": {
    "interpreter": {
     "hash": "46a1fdd85b78a5b88972b9a2a3f9065067f45896cd6bbfe514e0695a965502e5"
    }
   }
  }
 },
 "nbformat": 4,
 "nbformat_minor": 2,
 "cells": [
  {
   "cell_type": "code",
   "execution_count": null,
   "metadata": {},
   "outputs": [],
   "source": [
    "import matplotlib.pyplot as plt\n",
    "import numpy as np\n",
    "import matplotlib.gridspec as gridspec\n",
    "\n",
    "x=np.linspace(-5,5)\n",
    "y=x**2\n",
    "z=x**3\n",
    "\n",
    "plt.style.use('Style/Paper.mplstyle')\n",
    "fig = plt.figure(tight_layout=True,figsize=(6,6))\n",
    "gs = gridspec.GridSpec(5, 2)\n",
    "ax0=fig.add_subplot(gs[1:3,0])\n",
    "ax0.plot(x,y,label='x^2',color='r')\n",
    "ax1=fig.add_subplot(gs[3:5,1])\n",
    "ax1.plot(x,z,label='x^3',color='b')\n",
    "fig.legend(loc=\"upper center\",fontsize=20)"
   ]
  }
 ]
}